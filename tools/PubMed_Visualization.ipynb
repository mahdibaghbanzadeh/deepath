{
  "cells": [
    {
      "cell_type": "markdown",
      "metadata": {
        "id": "view-in-github",
        "colab_type": "text"
      },
      "source": [
        "<a href=\"https://colab.research.google.com/github/mahdibaghbanzadeh/deepath/blob/master/tools/PubMed_Visualization.ipynb\" target=\"_parent\"><img src=\"https://colab.research.google.com/assets/colab-badge.svg\" alt=\"Open In Colab\"/></a>"
      ]
    },
    {
      "cell_type": "markdown",
      "id": "technical-cookie",
      "metadata": {
        "id": "technical-cookie"
      },
      "source": [
        "# PubMed Visualization\n",
        "This notebook will help you to visualize the sample output of searches trough the PubMed database.  \n",
        "  \n",
        "## Data format\n",
        "To prepare the data:  \n",
        "1. place all the data files in a directory with the following name foramt:  _**GROUPNAME(underline)SUBGROUPNAME.csv**_\n",
        "2. replace the directory name with the _dat_directory_ argument in the **data_prep** function (It's default value is _pubmed_data_)"
      ]
    },
    {
      "cell_type": "code",
      "execution_count": null,
      "id": "understood-evening",
      "metadata": {
        "id": "understood-evening"
      },
      "outputs": [],
      "source": [
        "import os\n",
        "import numpy as np\n",
        "import pandas as pd\n",
        "from matplotlib import pyplot as plt\n",
        "from matplotlib.gridspec import GridSpec\n",
        "import seaborn as sns\n",
        "import datetime"
      ]
    },
    {
      "cell_type": "code",
      "execution_count": null,
      "id": "cloudy-copper",
      "metadata": {
        "scrolled": true,
        "id": "cloudy-copper"
      },
      "outputs": [],
      "source": [
        "def data_prep(nam, start_year = 1965, dat_directory = 'pubmed_data'):\n",
        "    \n",
        "    df = pd.DataFrame(range(start_year, datetime.datetime.now().year+1), columns=['Year'])\n",
        "    \n",
        "    for file in os.listdir('./' + dat_directory + '/'):\n",
        "        if file.startswith(nam):\n",
        "            file_path = str('./' + dat_directory + '/' + file)\n",
        "            temp = pd.read_csv(file_path, skiprows=1)\n",
        "            temp.columns = ['Year', file.split('_')[-1].split('.')[0]]        \n",
        "            df = df.merge(temp, how = 'left')\n",
        "    df.fillna(0, inplace = True)\n",
        "    return df"
      ]
    },
    {
      "cell_type": "code",
      "execution_count": null,
      "id": "marked-consortium",
      "metadata": {
        "id": "marked-consortium",
        "outputId": "21498f00-8837-4ca5-e6d5-9c74021d9182"
      },
      "outputs": [
        {
          "data": {
            "text/plain": [
              "<Figure size 432x288 with 0 Axes>"
            ]
          },
          "metadata": {},
          "output_type": "display_data"
        },
        {
          "data": {
            "image/png": "[encoded data removed]",
            "text/plain": [
              "<Figure size 518.4x230.4 with 6 Axes>"
            ]
          },
          "metadata": {
            "needs_background": "light"
          },
          "output_type": "display_data"
        }
      ],
      "source": [
        "name_list = ['Epigenomics', 'Genomics', 'Metagenomics', 'Viromics', 'Proteomics', 'Metabolomics']\n",
        "fig=plt.figure()\n",
        "fig = plt.figure(figsize=(7.2,3.2))\n",
        "gs=GridSpec(4,6,wspace=0.0,hspace = 0.0)\n",
        "\n",
        "px = []\n",
        "cn = 0\n",
        "for i in [0,2]:\n",
        "    for j in [0,2,4]:\n",
        "        \n",
        "        df = data_prep(nam=name_list[cn])\n",
        "        \n",
        "        px.append(fig.add_subplot(gs[i:(i+2), j:(j+2)]))\n",
        "        px[-1].tick_params(axis='both', which='major', labelsize=6)\n",
        "        df.plot(x='Year', kind='bar',stacked = True,ax = px[-1])\n",
        "        plt.xlabel(\"\")\n",
        "        \n",
        "        px[-1].spines['top'].set_linewidth(0.1)\n",
        "        px[-1].spines['left'].set_linewidth(0.5)\n",
        "        px[-1].spines['right'].set_linewidth(0.1)\n",
        "        px[-1].spines['bottom'].set_linewidth(0.5)\n",
        "        px[-1].legend(loc ='center', fontsize = 5)\n",
        "        \n",
        "        if cn in [1, 4]:\n",
        "            px[-1].tick_params(axis=\"y\",direction=\"in\", pad=-25)\n",
        "        if cn in [2, 5]:\n",
        "            px[-1].yaxis.tick_right()\n",
        "        if cn <3:\n",
        "            px[-1].yaxis.get_major_ticks()[0].label1.set_visible(False)\n",
        "            px[-1].set_xticklabels([])\n",
        "        else:\n",
        "            px[-1].yaxis.get_major_ticks()[0].label1.set_visible(False)\n",
        "            px[-1].set_xticks(px[-1].get_xticks()[::5])\n",
        "            px[-1].xaxis.label.set_visible(False)\n",
        "            if cn > 3:\n",
        "                px[-1].xaxis.get_major_ticks()[0].label1.set_visible(False)\n",
        "            \n",
        "        px[-1].xaxis.set_tick_params(labelsize=8)#COunt\n",
        "        px[-1].yaxis.set_tick_params(labelsize=6.40)#Year\n",
        "        \n",
        "#         tag = tag_finder(file_list[cn])\n",
        "        px[-1].text(.5, .9, name_list[cn], transform=px[-1].transAxes, ha=\"center\", weight='bold')\n",
        "        cn += 1\n",
        "plt.tight_layout(pad=0.05)\n",
        "\n",
        "fig.savefig(\"image_omics_all_ml.pdf\", dpi=350, bbox_inches = \"tight\")\n",
        "fig.savefig(\"image_omics_all_ml.png\", dpi=350, bbox_inches = \"tight\")\n",
        "plt.show()"
      ]
    }
  ],
  "metadata": {
    "celltoolbar": "Raw Cell Format",
    "kernelspec": {
      "display_name": "Python 3",
      "language": "python",
      "name": "python3"
    },
    "language_info": {
      "codemirror_mode": {
        "name": "ipython",
        "version": 3
      },
      "file_extension": ".py",
      "mimetype": "text/x-python",
      "name": "python",
      "nbconvert_exporter": "python",
      "pygments_lexer": "ipython3",
      "version": "3.8.3"
    },
    "colab": {
      "name": "PubMed Visualization.ipynb",
      "provenance": [],
      "include_colab_link": true
    }
  },
  "nbformat": 4,
  "nbformat_minor": 5
}